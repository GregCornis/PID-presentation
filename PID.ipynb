{
 "cells": [
  {
   "cell_type": "markdown",
   "id": "32e6347d-cce2-4db1-aa46-95d6fde85a33",
   "metadata": {},
   "source": [
    "# PID - Comment ça marche ?\n",
    "\n",
    "Le but de ce Notebook est de vous guider à travers quelques simulations pour vous donner une compréhension intuitive du fonctionnement d'un PID."
   ]
  },
  {
   "cell_type": "code",
   "execution_count": 1,
   "id": "7bd8bc99-d763-4c6c-b4e7-3e5776d11d2a",
   "metadata": {},
   "outputs": [],
   "source": [
    "import matplotlib.pyplot as plt\n",
    "import numpy as np"
   ]
  },
  {
   "cell_type": "markdown",
   "id": "7dd925cf-b81f-453b-a8cf-ea0c46e19c1d",
   "metadata": {},
   "source": [
    "## Implémentation\n",
    "\n",
    "Le première étape consiste à implémenter un PID. \n",
    "\n",
    "$$Control = K_p \\cdot e(t) + K_i \\cdot \\int_t e(t) dt + K_d \\cdot \\frac {de(t)}{dt}$$"
   ]
  },
  {
   "cell_type": "code",
   "execution_count": 39,
   "id": "1277d17b-a0c1-47a1-bdee-ed524673cb64",
   "metadata": {
    "tags": []
   },
   "outputs": [],
   "source": [
    "class PID:\n",
    "    def __init__(self, Kp, Ki, Kd):\n",
    "        self.Kp = Kp\n",
    "        self.Ki = Ki\n",
    "        self.Kd = Kd\n",
    "        self.previous_error = 0\n",
    "        self.integral = 0\n",
    "        \n",
    "    def get_control(self, setpoint, measure, dt):\n",
    "        error = setpoint - measure\n",
    "        derivative = error - self.previous_error\n",
    "        self.previous_error = error\n",
    "        self.integral += error\n",
    "        return self.Kp * error + self.Kd * derivative + self.Ki * self.integral"
   ]
  },
  {
   "cell_type": "markdown",
   "id": "056cccce-5916-4181-9cf4-ea15d7fed281",
   "metadata": {},
   "source": [
    "## Simulation\n",
    "\n",
    "On considère un objet à une dimension : la température du four, l'angle d'inclinaison du drone, la distance avec la voiture qui précède...  \n",
    "Le modèle simule la physique de cette dimension. On peut en général les écrire sous forme d'équations différentielles.\n",
    "\n",
    "En automatique, on retrouve beaucoup deux classes de modèles : les premiers et les deuxièmes ordres. Il s'agit de modèle dont les équations différentielles sont des équations linéaires du premier et deuxième ordre.\n",
    "\n",
    "Premier ordre : $$\\tau \\frac {ds(t)}{dt} + s(t) = control(t)$$\n",
    "\n",
    "Second ordre : $$\\frac {1}{\\omega^2} \\frac {d^2s(t)}{dt^2} + \\frac {2 \\epsilon}{\\omega} \\frac{ds(t)}{dt} + s(t) = control(t)$$"
   ]
  },
  {
   "cell_type": "code",
   "execution_count": 3,
   "id": "f1c842ea-ef12-4d21-a5ed-e2f31a9cdd40",
   "metadata": {},
   "outputs": [],
   "source": [
    "class Model:\n",
    "    def update(self, control, dt):\n",
    "        return 1"
   ]
  },
  {
   "cell_type": "code",
   "execution_count": 4,
   "id": "907c44af-462d-4384-a9ce-a3d03b693bef",
   "metadata": {},
   "outputs": [],
   "source": [
    "class ZeroOrderModel(Model):\n",
    "    def __init__(self):\n",
    "        self.value = 0\n",
    "    \n",
    "    def update(self, control, dt):\n",
    "        self.value += control * dt\n",
    "        return self.value"
   ]
  },
  {
   "cell_type": "code",
   "execution_count": 146,
   "id": "107cd344-1c4c-48fb-bb5f-2b2e9b7cb21b",
   "metadata": {},
   "outputs": [],
   "source": [
    "class FirstOrderModel(Model):\n",
    "    def __init__(self):\n",
    "        self.value = 0\n",
    "        self.tau = 2  # Response time\n",
    "    \n",
    "    def update(self, control, dt):\n",
    "        speed = (control - self.value) / self.tau\n",
    "        self.value += speed * dt\n",
    "        return self.value"
   ]
  },
  {
   "cell_type": "code",
   "execution_count": 287,
   "id": "4d671022-ed9b-4d4f-9054-a65844ce7b79",
   "metadata": {},
   "outputs": [],
   "source": [
    "class SecondOrderModel(Model):\n",
    "    def __init__(self, omega = 0.2, epsilon = 0.1):\n",
    "        self.value = 0\n",
    "        self.speed = 0\n",
    "        self.omega = omega\n",
    "        self.epsilon = epsilon\n",
    "    \n",
    "    def update(self, control, dt):\n",
    "        acceleration = self.omega ** 2 * (control - self.value) - 2 * self.epsilon * self.omega * self.speed\n",
    "        self.speed += acceleration * dt\n",
    "        self.value += self.speed * dt\n",
    "        return self.value"
   ]
  },
  {
   "cell_type": "code",
   "execution_count": 7,
   "id": "802d8ae3-7c21-49da-9be7-52725fd553d0",
   "metadata": {},
   "outputs": [],
   "source": [
    "def run_simulation(model: Model, controller: PID, setpoint=1, iterations=1000):\n",
    "    measure = 0\n",
    "    dt = 0.1\n",
    "    measures = []\n",
    "    \n",
    "    for i in range(iterations):\n",
    "        control = controller.get_control(setpoint, measure, dt)\n",
    "        measure = model.update(control, dt)\n",
    "        measures.append(measure)\n",
    "    return measures"
   ]
  },
  {
   "cell_type": "markdown",
   "id": "21a04079-536a-44e5-877b-21f50dc00795",
   "metadata": {},
   "source": [
    "## Premier ordre\n",
    "\n",
    "Essayez de trouver la convergence la plus rapide pour ce premier ordre, en jouant sur les paramètres du `PID`. Quelle est l'influence de Kp ? Ki ? Kd ?"
   ]
  },
  {
   "cell_type": "code",
   "execution_count": 348,
   "id": "083c3053-5a15-47a2-8264-d9a0ca8bb5db",
   "metadata": {},
   "outputs": [],
   "source": [
    "measures = run_simulation(FirstOrderModel(), PID(1., 0, 0.))"
   ]
  },
  {
   "cell_type": "code",
   "execution_count": 349,
   "id": "2d9678c6-7255-4575-86c2-a10809e03598",
   "metadata": {},
   "outputs": [
    {
     "data": {
      "text/plain": [
       "<matplotlib.lines.Line2D at 0x14eacd550>"
      ]
     },
     "execution_count": 349,
     "metadata": {},
     "output_type": "execute_result"
    },
    {
     "data": {
      "image/png": "[encoded data removed]",
      "text/plain": [
       "<Figure size 432x288 with 1 Axes>"
      ]
     },
     "metadata": {
      "needs_background": "light"
     },
     "output_type": "display_data"
    }
   ],
   "source": [
    "plt.plot(measures)\n",
    "plt.axhline(1, color='red', linestyle='--')"
   ]
  },
  {
   "cell_type": "markdown",
   "id": "f0139454-5eb0-4b6e-be4a-d121e54c1d05",
   "metadata": {},
   "source": [
    "Un détail important : essayez Kp=1, Ki = Kd = 0. Vous constaterez que le système converge, mais vers la mauvaise valeur. On appelle cela la **steady state error**, et c'est une des raisons du terme intégral. En effet, en ajoutant l'intégral, ce terme va augmenter jusqu'à ce que l'erreur devienne nulle.\n",
    "\n",
    "Intuitivement, cette situation survient lorsqu'il faut maintenir un effor constant pour garder une position.\n",
    "  \n",
    "Par exemple en cas de vent, le drone ne va pas converger vers sa position désirée. De même, si on place le robot sur une pente, il sera incapable de garder sa position s'il n'a pas de terme intégral."
   ]
  },
  {
   "cell_type": "markdown",
   "id": "4529a659-a0ec-4a0d-b357-2245d63b95aa",
   "metadata": {
    "tags": []
   },
   "source": [
    "## Deuxième ordre\n",
    "\n",
    "Essayez de trouver la convergence la plus rapide pour un second ordre, tout en maintenant des oscillations faibles."
   ]
  },
  {
   "cell_type": "code",
   "execution_count": 324,
   "id": "46f79dd7-fdf6-4862-a070-af52cc3c2779",
   "metadata": {
    "tags": []
   },
   "outputs": [
    {
     "data": {
      "text/plain": [
       "<matplotlib.lines.Line2D at 0x14de6b9d0>"
      ]
     },
     "execution_count": 324,
     "metadata": {},
     "output_type": "execute_result"
    },
    {
     "data": {
      "image/png": "[encoded data removed]",
      "text/plain": [
       "<Figure size 432x288 with 1 Axes>"
      ]
     },
     "metadata": {
      "needs_background": "light"
     },
     "output_type": "display_data"
    }
   ],
   "source": [
    "plt.plot(run_simulation(SecondOrderModel(omega=1, epsilon=0.1), PID(1, 0.0, 0.)))\n",
    "plt.axhline(1, color='red', linestyle='--')"
   ]
  },
  {
   "cell_type": "markdown",
   "id": "01ef430c-e034-4718-81ab-0fa338a07c78",
   "metadata": {},
   "source": [
    "## Robustesse\n",
    "\n",
    "On parle de robustesse quand notre solution fonctionne encore lorsque l'on change certains paramètres. Est ce que le drone est toujours stable si on lui ajoute du poids ? S'il y a du délai dans l'exécution des commandes ?\n",
    "\n",
    "Une visualisation parlante est de tracer la zone de stabilité d'un modèle, en fonction de certains paramètres."
   ]
  },
  {
   "cell_type": "code",
   "execution_count": 350,
   "id": "2361ed5e-c65f-46a1-bfbc-ec50aa98ae9d",
   "metadata": {},
   "outputs": [],
   "source": [
    "class FirstOrderModelWithDelay(Model):\n",
    "    def __init__(self, tau = 2, delay = 0.5):\n",
    "        self.tau = tau\n",
    "        self.delay = delay\n",
    "        self.value = 0\n",
    "        self._control_history = []\n",
    "\n",
    "    \n",
    "    def update(self, control, dt):\n",
    "        self._control_history.insert(0, control)\n",
    "        if len(self._control_history) <= self.delay / dt:\n",
    "            control = 0\n",
    "        else:\n",
    "            control = self._control_history[int(self.delay / dt)]\n",
    "            self._control_history.pop()\n",
    "        speed = (control - self.value) * dt / self.tau\n",
    "        self.value += speed * dt\n",
    "        return self.value"
   ]
  },
  {
   "cell_type": "code",
   "execution_count": 351,
   "id": "6cb0bb4d-f64f-457c-aa03-d089f0ceb1ca",
   "metadata": {},
   "outputs": [],
   "source": [
    "def is_stable(kp, ki, kd, tau, delay):\n",
    "    measures = run_simulation(FirstOrderModelWithDelay(tau, delay), PID(kp, ki, kd))\n",
    "    #print(np.array(measures)[-10:])\n",
    "    return np.all(np.abs(np.array(measures)[-10:] - 1) < 1e-2)"
   ]
  },
  {
   "cell_type": "markdown",
   "id": "32db834e-6990-48bb-b37c-0f2c08cbd707",
   "metadata": {},
   "source": [
    "### Visualisons la stabilité"
   ]
  },
  {
   "cell_type": "code",
   "execution_count": 352,
   "id": "2ac273b2-cee1-4ec6-b0d1-32f43fff8023",
   "metadata": {},
   "outputs": [
    {
     "data": {
      "text/plain": [
       "[<matplotlib.lines.Line2D at 0x14ec48280>]"
      ]
     },
     "execution_count": 352,
     "metadata": {},
     "output_type": "execute_result"
    },
    {
     "data": {
      "image/png": "[encoded data removed]",
      "text/plain": [
       "<Figure size 432x288 with 1 Axes>"
      ]
     },
     "metadata": {
      "needs_background": "light"
     },
     "output_type": "display_data"
    }
   ],
   "source": [
    "plt.plot(run_simulation(FirstOrderModelWithDelay(tau=4.2, delay=1.1), PID(3, 0.1, 0)))"
   ]
  },
  {
   "cell_type": "code",
   "execution_count": 353,
   "id": "9d674ca8-2904-4b28-a363-959f59cc5cc7",
   "metadata": {},
   "outputs": [
    {
     "data": {
      "text/plain": [
       "False"
      ]
     },
     "execution_count": 353,
     "metadata": {},
     "output_type": "execute_result"
    }
   ],
   "source": [
    "is_stable(3, 0.1, 0, 4.2, 1.1)"
   ]
  },
  {
   "cell_type": "markdown",
   "id": "c386a170-9950-4eb7-b282-9390ae3fbb50",
   "metadata": {},
   "source": [
    "### Plot stablity zone"
   ]
  },
  {
   "cell_type": "code",
   "execution_count": 354,
   "id": "24ae39fe-37ac-4bf8-95d2-ce76e85dad18",
   "metadata": {},
   "outputs": [],
   "source": [
    "def test_stability_zone(taus, delays, kp = 0.1, ki = 0.1, kd = 0):\n",
    "    res = []\n",
    "    for tau in taus:\n",
    "        row = []\n",
    "        for delay in delays:\n",
    "            stable = is_stable(kp, ki, kd, tau, delay)\n",
    "            row.append(stable)\n",
    "        res.append(row)\n",
    "    return res"
   ]
  },
  {
   "cell_type": "code",
   "execution_count": 355,
   "id": "75737cab-c86a-4664-a385-9ada93140aa8",
   "metadata": {},
   "outputs": [],
   "source": [
    "def plot_stability(res, taus, delays):\n",
    "    plt.figure(figsize=(8, 8))\n",
    "    plt.imshow(np.array(res), cmap=\"copper\")\n",
    "    plt.xlabel(\"delay\")\n",
    "    plt.ylabel(\"tau\")\n",
    "    plt.xticks(ticks=range(len(delays)), labels=[f\"{d:.1f}\" for d in delays])\n",
    "    plt.yticks(ticks=range(len(taus)), labels=[f\"{t:.1f}\" for t in taus])\n",
    "    plt.title(\"Stability zone\")"
   ]
  },
  {
   "cell_type": "code",
   "execution_count": 356,
   "id": "e310ac9c-5657-4ee1-922e-e560d4f7ccaa",
   "metadata": {},
   "outputs": [],
   "source": [
    "taus = np.linspace(0.1, 5, 30)\n",
    "delays = np.linspace(0, 5, 30)\n",
    "res = test_stability_zone(taus, delays, kp=10, kd=0, ki=0.1)"
   ]
  },
  {
   "cell_type": "code",
   "execution_count": 357,
   "id": "8330bdcc-0806-47fc-9063-60b8879e46d1",
   "metadata": {},
   "outputs": [
    {
     "data": {
      "image/png": "[encoded data removed]",
      "text/plain": [
       "<Figure size 576x576 with 1 Axes>"
      ]
     },
     "metadata": {
      "needs_background": "light"
     },
     "output_type": "display_data"
    }
   ],
   "source": [
    "plot_stability(res, taus, delays)"
   ]
  },
  {
   "cell_type": "markdown",
   "id": "24dfb9fa-6f9d-4a05-8de0-36365e69bef0",
   "metadata": {},
   "source": [
    "Vous pouvez jouer sur les paramètres de PID pour voir la zone évoluer"
   ]
  },
  {
   "cell_type": "markdown",
   "id": "ed380f74-74a9-45e6-bc9a-facb221b21cd",
   "metadata": {},
   "source": [
    "## Perturbation extérieures\n",
    "\n",
    "Et s'il y a du vent ? C'est là qu'intervient le dernier paramètre : `Kd`. Son rôle est de réagir aux perturbations extérieures avant qu'il n'y ait une trop grande déviation.  \n",
    "Attention cependant, il est très sensible au bruit dans le signal d'entrée."
   ]
  },
  {
   "cell_type": "code",
   "execution_count": 358,
   "id": "9a785579-12bb-4c80-b314-148c5b885748",
   "metadata": {},
   "outputs": [],
   "source": [
    "def calc_wind(i, wind_iteration):\n",
    "    return np.exp(-(i - wind_iteration)**2 / 100)"
   ]
  },
  {
   "cell_type": "code",
   "execution_count": 359,
   "id": "771974eb-e20e-4bf9-8934-fc34ef602de9",
   "metadata": {},
   "outputs": [],
   "source": [
    "def run_simulation_with_wind(model: Model, controller: PID, setpoint=1, wind_iteration = 700, iterations=1000):\n",
    "    measure = 0\n",
    "    dt = 0.1\n",
    "    measures = []\n",
    "    wind = 0\n",
    "    \n",
    "    for i in range(iterations):\n",
    "        wind = calc_wind(i, wind_iteration)\n",
    "        control = controller.get_control(setpoint, measure, dt)\n",
    "        measure = model.update(control + wind, dt)\n",
    "        measures.append(measure)\n",
    "    return measures"
   ]
  },
  {
   "cell_type": "code",
   "execution_count": 360,
   "id": "7337435f-8d07-454d-807c-e96c0ce1c813",
   "metadata": {},
   "outputs": [
    {
     "data": {
      "text/plain": [
       "<matplotlib.lines.Line2D at 0x14ed8df40>"
      ]
     },
     "execution_count": 360,
     "metadata": {},
     "output_type": "execute_result"
    },
    {
     "data": {
      "image/png": "[encoded data removed]",
      "text/plain": [
       "<Figure size 432x288 with 1 Axes>"
      ]
     },
     "metadata": {
      "needs_background": "light"
     },
     "output_type": "display_data"
    }
   ],
   "source": [
    "plt.plot(run_simulation_with_wind(FirstOrderModel(), PID(3, 0.1, 1)))\n",
    "plt.axvline(680, color=\"red\", linestyle='--')\n",
    "plt.axhline(1, color=\"red\", linestyle='--')"
   ]
  },
  {
   "cell_type": "markdown",
   "id": "c24566ff-b5e2-4a3c-902d-941749e972ca",
   "metadata": {},
   "source": [
    "Jouez avec les paramètres du PID, en particulier le `Kd`, pour minimiser le dépassement dû au vent"
   ]
  },
  {
   "cell_type": "markdown",
   "id": "61b32519-3109-4483-a14d-14a7bf7ae251",
   "metadata": {},
   "source": [
    "# Test final\n",
    "\n",
    "On va maintenant faire une simulation qui va inclure tout ce qu'on a vu précedemment.\n",
    "\n",
    "**Trouvez les paramètres donnant le meilleur résultat**.\n",
    "\n",
    "Notez :\n",
    " - le temps de réponse (convergence à 99%)\n",
    " - l'amplitude du premier dépassement\n",
    " - le nombre d'oscillations\n",
    " - vitesse maximale\n",
    " \n",
    "⚠️ Contraintes : \n",
    " - la vitesse max ne doit pas dépasser **0.05 unité / itération**\n",
    " - le système doit avoir convergé avant l'arrivée du vent (99% de la valeur objectif)"
   ]
  },
  {
   "cell_type": "code",
   "execution_count": 402,
   "id": "30c80c36-15ba-4e83-b4f6-0aa7c31dae75",
   "metadata": {},
   "outputs": [
    {
     "data": {
      "text/plain": [
       "<matplotlib.lines.Line2D at 0x158276f70>"
      ]
     },
     "execution_count": 402,
     "metadata": {},
     "output_type": "execute_result"
    },
    {
     "data": {
      "image/png": "[encoded data removed]",
      "text/plain": [
       "<Figure size 432x288 with 1 Axes>"
      ]
     },
     "metadata": {
      "needs_background": "light"
     },
     "output_type": "display_data"
    }
   ],
   "source": [
    "sim = run_simulation_with_wind(SecondOrderModel(), PID(9, 0.1, 50))\n",
    "plt.plot(sim)\n",
    "plt.axvline(680, color=\"red\", linestyle='--')\n",
    "plt.axhline(1, color=\"red\", linestyle='--')"
   ]
  },
  {
   "cell_type": "code",
   "execution_count": 403,
   "id": "35351ad1-085a-49af-989b-aeecb80b1ce7",
   "metadata": {},
   "outputs": [
    {
     "data": {
      "text/plain": [
       "[<matplotlib.lines.Line2D at 0x158021b80>]"
      ]
     },
     "execution_count": 403,
     "metadata": {},
     "output_type": "execute_result"
    },
    {
     "data": {
      "image/png": "[encoded data removed]",
      "text/plain": [
       "<Figure size 432x288 with 1 Axes>"
      ]
     },
     "metadata": {
      "needs_background": "light"
     },
     "output_type": "display_data"
    }
   ],
   "source": [
    "# Speed\n",
    "plt.plot([sim[i+1] - sim[i] for i in range(len(sim)-1)])"
   ]
  }
 ],
 "metadata": {
  "kernelspec": {
   "display_name": "Python 3 (ipykernel)",
   "language": "python",
   "name": "python3"
  },
  "language_info": {
   "codemirror_mode": {
    "name": "ipython",
    "version": 3
   },
   "file_extension": ".py",
   "mimetype": "text/x-python",
   "name": "python",
   "nbconvert_exporter": "python",
   "pygments_lexer": "ipython3",
   "version": "3.8.9"
  }
 },
 "nbformat": 4,
 "nbformat_minor": 5
}
